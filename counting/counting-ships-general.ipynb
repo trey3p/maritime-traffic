{
  "nbformat": 4,
  "nbformat_minor": 0,
  "metadata": {
    "colab": {
      "name": "counting-ships-general.ipynb",
      "provenance": [],
      "collapsed_sections": [],
      "authorship_tag": "ABX9TyPopxylsYfHmmBiNlm6FXaj",
      "include_colab_link": true
    },
    "kernelspec": {
      "name": "python3",
      "display_name": "Python 3"
    },
    "language_info": {
      "name": "python"
    }
  },
  "cells": [
    {
      "cell_type": "markdown",
      "metadata": {
        "id": "view-in-github",
        "colab_type": "text"
      },
      "source": [
        "<a href=\"https://colab.research.google.com/github/trey3p/maritime-traffic/blob/main/counting_ships_general.ipynb\" target=\"_parent\"><img src=\"https://colab.research.google.com/assets/colab-badge.svg\" alt=\"Open In Colab\"/></a>"
      ]
    },
    {
      "cell_type": "markdown",
      "source": [
        "# General code for counting ships, no specific region or time range specified"
      ],
      "metadata": {
        "id": "10xpwZrh4pCA"
      }
    },
    {
      "cell_type": "markdown",
      "source": [
        "Importing"
      ],
      "metadata": {
        "id": "ZtFgQtrC-drN"
      }
    },
    {
      "cell_type": "code",
      "execution_count": null,
      "metadata": {
        "id": "Z7Gs-JYV4l6a"
      },
      "outputs": [],
      "source": [
        "import ee #Earth Engine\n",
        "import datetime\n",
        "import pandas as pd"
      ]
    },
    {
      "cell_type": "markdown",
      "source": [
        "Authenticating Earth Engine API"
      ],
      "metadata": {
        "id": "VS8ZNnyO-0ma"
      }
    },
    {
      "cell_type": "code",
      "source": [
        "ee.Authenticate()\n",
        "\n",
        "ee.Initialize()"
      ],
      "metadata": {
        "colab": {
          "base_uri": "https://localhost:8080/"
        },
        "id": "dcjhJ7WR-hir",
        "outputId": "bebb834c-466e-4883-f283-4842a2e4d97c"
      },
      "execution_count": null,
      "outputs": [
        {
          "output_type": "stream",
          "name": "stdout",
          "text": [
            "To authorize access needed by Earth Engine, open the following URL in a web browser and follow the instructions. If the web browser does not start automatically, please manually browse the URL below.\n",
            "\n",
            "    https://accounts.google.com/o/oauth2/auth?client_id=517222506229-vsmmajv00ul0bs7p89v5m89qs8eb9359.apps.googleusercontent.com&scope=https%3A%2F%2Fwww.googleapis.com%2Fauth%2Fearthengine+https%3A%2F%2Fwww.googleapis.com%2Fauth%2Fdevstorage.full_control&redirect_uri=urn%3Aietf%3Awg%3Aoauth%3A2.0%3Aoob&response_type=code&code_challenge=vTfYdvYoHV_k982lXIjXG7hUhPWJgHu4aqCjtje8vrM&code_challenge_method=S256\n",
            "\n",
            "The authorization workflow will generate a code, which you should paste in the box below. \n",
            "Enter verification code: 4/1AX4XfWgAfC0Ajo9r56cFR5dOY6d8SCWQ-VrA5XN_R9hiP9MbND07V47Nc1g\n",
            "\n",
            "Successfully saved authorization token.\n"
          ]
        }
      ]
    },
    {
      "cell_type": "markdown",
      "source": [
        "Defining Region of Interest"
      ],
      "metadata": {
        "id": "OiXQyzowCW_1"
      }
    },
    {
      "cell_type": "code",
      "source": [
        "region = ee.Geometry.Polygon(\n",
        "    #coordinates of region\n",
        ")"
      ],
      "metadata": {
        "id": "AEEgTC7XCWvZ"
      },
      "execution_count": null,
      "outputs": []
    },
    {
      "cell_type": "markdown",
      "source": [
        "Loading Sentinel-2 and Sentinel-1 Collections"
      ],
      "metadata": {
        "id": "LWGUhx5B_j7U"
      }
    },
    {
      "cell_type": "code",
      "source": [
        "s2 = ee.ImageCollection(\"COPERNICUS/S2_SR\").filterBounds(region).select('B11').min().clip(region)\n",
        "\n",
        "#Using Sentinel-2 satellite to build the water mask. The B11 band gives short-wave infrared imagery, \n",
        "#which is useful because water appears dark in SWIR. \n",
        "#The minimum is computed because we want to filter out objects in the water that have a higher pixel value than the water.\n",
        "\n",
        "s1 = ee.ImageCollection(\"COPERNICUS/S1_GRD\").filterBounds(region).filterDate(\n",
        "    #time range\n",
        ").select('VH')\n",
        "\n",
        "#We use Sentinel-1 for actually detecting the ships. VH is dual-band cross-polarization, vertical transmit and horizontal receive.\n"
      ],
      "metadata": {
        "colab": {
          "base_uri": "https://localhost:8080/",
          "height": 244
        },
        "id": "TtjcEqOT_n63",
        "outputId": "957dfb01-2e89-49ca-cde1-b7378fa25896"
      },
      "execution_count": null,
      "outputs": [
        {
          "output_type": "error",
          "ename": "NameError",
          "evalue": "ignored",
          "traceback": [
            "\u001b[0;31m---------------------------------------------------------------------------\u001b[0m",
            "\u001b[0;31mNameError\u001b[0m                                 Traceback (most recent call last)",
            "\u001b[0;32m<ipython-input-3-392c928ca7df>\u001b[0m in \u001b[0;36m<module>\u001b[0;34m()\u001b[0m\n\u001b[0;32m----> 1\u001b[0;31m \u001b[0ms2\u001b[0m \u001b[0;34m=\u001b[0m \u001b[0mee\u001b[0m\u001b[0;34m.\u001b[0m\u001b[0mImageCollection\u001b[0m\u001b[0;34m(\u001b[0m\u001b[0;34m\"COPERNICUS/S2_SR\"\u001b[0m\u001b[0;34m)\u001b[0m\u001b[0;34m.\u001b[0m\u001b[0mfilterBounds\u001b[0m\u001b[0;34m(\u001b[0m\u001b[0mregion\u001b[0m\u001b[0;34m)\u001b[0m\u001b[0;34m.\u001b[0m\u001b[0mselect\u001b[0m\u001b[0;34m(\u001b[0m\u001b[0;34m'B11'\u001b[0m\u001b[0;34m)\u001b[0m\u001b[0;34m.\u001b[0m\u001b[0mmin\u001b[0m\u001b[0;34m(\u001b[0m\u001b[0;34m)\u001b[0m\u001b[0;34m.\u001b[0m\u001b[0mclip\u001b[0m\u001b[0;34m(\u001b[0m\u001b[0mregion\u001b[0m\u001b[0;34m)\u001b[0m\u001b[0;34m\u001b[0m\u001b[0;34m\u001b[0m\u001b[0m\n\u001b[0m\u001b[1;32m      2\u001b[0m \u001b[0;34m\u001b[0m\u001b[0m\n\u001b[1;32m      3\u001b[0m \u001b[0;31m#Using Sentinel-2 satellite to build the water mask. The B11 band gives short-wave infrared imagery,\u001b[0m\u001b[0;34m\u001b[0m\u001b[0;34m\u001b[0m\u001b[0;34m\u001b[0m\u001b[0m\n\u001b[1;32m      4\u001b[0m \u001b[0;31m#which is useful because water appears dark in SWIR.\u001b[0m\u001b[0;34m\u001b[0m\u001b[0;34m\u001b[0m\u001b[0;34m\u001b[0m\u001b[0m\n\u001b[1;32m      5\u001b[0m \u001b[0;31m#The minimum is computed because we want to filter out objects in the water that have a higher pixel value than the water.\u001b[0m\u001b[0;34m\u001b[0m\u001b[0;34m\u001b[0m\u001b[0;34m\u001b[0m\u001b[0m\n",
            "\u001b[0;31mNameError\u001b[0m: name 'region' is not defined"
          ]
        }
      ]
    },
    {
      "cell_type": "markdown",
      "source": [
        "Kernel"
      ],
      "metadata": {
        "id": "zc5-b4anO6AX"
      }
    },
    {
      "cell_type": "code",
      "source": [
        "kernel = ee.Kernel.circle({radius: 4});"
      ],
      "metadata": {
        "id": "aWTGNUZcO5n_"
      },
      "execution_count": null,
      "outputs": []
    },
    {
      "cell_type": "markdown",
      "source": [
        "Counting Ships Function"
      ],
      "metadata": {
        "id": "6aWGpFZaPMb2"
      }
    },
    {
      "cell_type": "code",
      "source": [
        "def count_ships(sar_img):\n",
        "  opened = sar_img.updateMask(water_mask).gt(-10).focal_max(kernel = kernel, iterations = 1).focal_min(kernel = kernel, iterations = 1)\n",
        "\n",
        "  objectId = opened.select('VH').connectedComponents(connectedness = ee.Kernel.plus(1), maxSize = 128)\n",
        "\n",
        "  objectSize = objectId.select('labels').connectedPixelCount(maxSize = 128, eightConnected = false)\n",
        "\n",
        "  pixelArea = ee.Image.pixelArea()\n",
        "  objectArea = objectSize.multiply(pixelArea)\n",
        "\n",
        "  areaMask = objectArea.gte(1000)\n",
        "  objectId = objectId.updateMask(areaMask)\n",
        "\n",
        "  result = objectId.select('labels').reduceRegion(geometry = region, reducer = ee.Reducer.countDistinct(),\n",
        "                                                  scale = 10, bestEffort = True)\n",
        "  \n",
        "  return ee.Feature(null, 'date' = ee.Date(sar_img.get('system:time_start'))\n",
        "        .format(\"YYYY-MM-dd\"),\n",
        "      'count' = result.get('labels'))\n",
        "  \n"
      ],
      "metadata": {
        "id": "ved8tvkDO7VE"
      },
      "execution_count": null,
      "outputs": []
    },
    {
      "cell_type": "markdown",
      "source": [
        "Applying the Function"
      ],
      "metadata": {
        "id": "2K6GR0dLbAbw"
      }
    },
    {
      "cell_type": "code",
      "source": [
        "collection = s1.map(count_ships)"
      ],
      "metadata": {
        "id": "q_7RIFJIa_-D"
      },
      "execution_count": null,
      "outputs": []
    },
    {
      "cell_type": "markdown",
      "source": [
        "Exporting Data"
      ],
      "metadata": {
        "id": "0B_vMcKra3dz"
      }
    },
    {
      "cell_type": "code",
      "source": [
        "def fc_df(feature_collection):\n",
        "  features = feature_collection.getInfo()['features']\n",
        "\n",
        "  dictarr = []\n",
        "\n",
        "  for f in features:\n",
        "    attr = f['properties']\n",
        "\n",
        "    dictarr.append(attr)\n",
        "\n",
        "\n",
        "  df = pd.DataFrame(dictarr)\n",
        "  return df\n"
      ],
      "metadata": {
        "id": "0XuCHb3ea6iL"
      },
      "execution_count": null,
      "outputs": []
    },
    {
      "cell_type": "code",
      "source": [
        "fc_df(collection).to_csv('ship-count-data.csv')"
      ],
      "metadata": {
        "id": "hZY_LprNfgp9"
      },
      "execution_count": null,
      "outputs": []
    }
  ]
}
